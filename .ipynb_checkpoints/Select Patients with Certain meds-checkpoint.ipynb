{
 "cells": [
  {
   "cell_type": "markdown",
   "metadata": {},
   "source": [
    "# This program takes input files and outputs a dataset outputting rows containing selected"
   ]
  },
  {
   "cell_type": "code",
   "execution_count": 1,
   "metadata": {},
   "outputs": [
    {
     "name": "stdout",
     "output_type": "stream",
     "text": [
      "Hello, please input the file you wish to review medications: /home/michael/Downloads/sampleuncoded.csv\n",
      "What is the reference file?: /home/michael/Downloads/felsndc.csv\n"
     ]
    }
   ],
   "source": [
    "file = input(\"Hello, please input the file you wish to review medications: \")\n",
    "reference = input(\"What is the reference file?: \")"
   ]
  },
  {
   "cell_type": "code",
   "execution_count": 4,
   "metadata": {
    "collapsed": true
   },
   "outputs": [],
   "source": [
    "import pandas as pd\n",
    "import numpy as np\n",
    "import csv\n",
    "patients = pd.read_csv(file)\n",
    "medslist = pd.read_csv(reference)\n",
    "#Please note something is wrong, patients and medslist are switched"
   ]
  },
  {
   "cell_type": "code",
   "execution_count": 6,
   "metadata": {},
   "outputs": [
    {
     "data": {
      "text/html": [
       "<div>\n",
       "<style>\n",
       "    .dataframe thead tr:only-child th {\n",
       "        text-align: right;\n",
       "    }\n",
       "\n",
       "    .dataframe thead th {\n",
       "        text-align: left;\n",
       "    }\n",
       "\n",
       "    .dataframe tbody tr th {\n",
       "        vertical-align: top;\n",
       "    }\n",
       "</style>\n",
       "<table border=\"1\" class=\"dataframe\">\n",
       "  <thead>\n",
       "    <tr style=\"text-align: right;\">\n",
       "      <th></th>\n",
       "      <th>listorder</th>\n",
       "      <th>Maj_Therap_Clss_Cde</th>\n",
       "      <th>Code</th>\n",
       "      <th>Drug_Name_Code</th>\n",
       "      <th>drug_name</th>\n",
       "      <th>indication</th>\n",
       "    </tr>\n",
       "  </thead>\n",
       "  <tbody>\n",
       "    <tr>\n",
       "      <th>0</th>\n",
       "      <td>1</td>\n",
       "      <td>100</td>\n",
       "      <td>100</td>\n",
       "      <td>165</td>\n",
       "      <td>BIER BLOCK</td>\n",
       "      <td>NaN</td>\n",
       "    </tr>\n",
       "    <tr>\n",
       "      <th>1</th>\n",
       "      <td>2</td>\n",
       "      <td>100</td>\n",
       "      <td>100</td>\n",
       "      <td>1983</td>\n",
       "      <td>ANESTHETIC</td>\n",
       "      <td>NaN</td>\n",
       "    </tr>\n",
       "    <tr>\n",
       "      <th>2</th>\n",
       "      <td>3</td>\n",
       "      <td>100</td>\n",
       "      <td>100</td>\n",
       "      <td>2396</td>\n",
       "      <td>VARICELLA VIRUS VACCINE</td>\n",
       "      <td>NaN</td>\n",
       "    </tr>\n",
       "    <tr>\n",
       "      <th>3</th>\n",
       "      <td>4</td>\n",
       "      <td>100</td>\n",
       "      <td>117</td>\n",
       "      <td>130</td>\n",
       "      <td>A-CAINE</td>\n",
       "      <td>ANESTHETICS, LOCAL</td>\n",
       "    </tr>\n",
       "    <tr>\n",
       "      <th>4</th>\n",
       "      <td>5</td>\n",
       "      <td>100</td>\n",
       "      <td>117</td>\n",
       "      <td>1154</td>\n",
       "      <td>XYLOCAINE/MARCAINE</td>\n",
       "      <td>ANESTHETICS, LOCAL</td>\n",
       "    </tr>\n",
       "  </tbody>\n",
       "</table>\n",
       "</div>"
      ],
      "text/plain": [
       "   listorder  Maj_Therap_Clss_Cde  Code  Drug_Name_Code  \\\n",
       "0          1                  100   100             165   \n",
       "1          2                  100   100            1983   \n",
       "2          3                  100   100            2396   \n",
       "3          4                  100   117             130   \n",
       "4          5                  100   117            1154   \n",
       "\n",
       "                 drug_name          indication  \n",
       "0               BIER BLOCK                 NaN  \n",
       "1               ANESTHETIC                 NaN  \n",
       "2  VARICELLA VIRUS VACCINE                 NaN  \n",
       "3                  A-CAINE  ANESTHETICS, LOCAL  \n",
       "4       XYLOCAINE/MARCAINE  ANESTHETICS, LOCAL  "
      ]
     },
     "execution_count": 6,
     "metadata": {},
     "output_type": "execute_result"
    }
   ],
   "source": [
    "medslist.head()"
   ]
  },
  {
   "cell_type": "code",
   "execution_count": 7,
   "metadata": {},
   "outputs": [
    {
     "name": "stdout",
     "output_type": "stream",
     "text": [
      "11515\n"
     ]
    }
   ],
   "source": [
    "mednumber = medslist[\"drug_name\"].shape[0]\n",
    "print(mednumber)"
   ]
  },
  {
   "cell_type": "code",
   "execution_count": 9,
   "metadata": {},
   "outputs": [
    {
     "name": "stdout",
     "output_type": "stream",
     "text": [
      "Retrieve This Text\n"
     ]
    }
   ],
   "source": [
    "from tkinter import *\n",
    "\n",
    "root = Tk()\n",
    "\n",
    "def command():\n",
    "    print(checkbutton.cget(\"text\"))\n",
    "\n",
    "checkbutton = Checkbutton(root, text=\"Retrieve This Text\")\n",
    "button = Button(root, text=\"Ok\", command=command)\n",
    "\n",
    "checkbutton.pack()\n",
    "button.pack()\n",
    "\n",
    "root.mainloop()"
   ]
  },
  {
   "cell_type": "code",
   "execution_count": 11,
   "metadata": {},
   "outputs": [
    {
     "name": "stdout",
     "output_type": "stream",
     "text": [
      "Test\n"
     ]
    }
   ],
   "source": [
    "from tkinter import *\n",
    "\n",
    "root = Tk()\n",
    "\n",
    "def command():\n",
    "    print(checkbutton.cget(\"text\"))\n",
    "\n",
    "checkbutton = Checkbutton(root, text=\"Test\")\n",
    "button = Button(root, text=\"Ok\", command=command)\n",
    "\n",
    "checkbutton.pack()\n",
    "button.pack()\n",
    "\n",
    "root.mainloop()"
   ]
  },
  {
   "cell_type": "code",
   "execution_count": null,
   "metadata": {
    "collapsed": true
   },
   "outputs": [],
   "source": []
  }
 ],
 "metadata": {
  "kernelspec": {
   "display_name": "Python 3",
   "language": "python",
   "name": "python3"
  },
  "language_info": {
   "codemirror_mode": {
    "name": "ipython",
    "version": 3
   },
   "file_extension": ".py",
   "mimetype": "text/x-python",
   "name": "python",
   "nbconvert_exporter": "python",
   "pygments_lexer": "ipython3",
   "version": "3.6.1"
  }
 },
 "nbformat": 4,
 "nbformat_minor": 2
}
